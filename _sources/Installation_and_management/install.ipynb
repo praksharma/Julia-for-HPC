{
 "cells": [
  {
   "attachments": {},
   "cell_type": "markdown",
   "metadata": {},
   "source": [
    "# Installation\n",
    "First, one need to download the Julia source binaries. [Here](https://julialang.org/downloads/) under the \"Generic Linux on x86\" download the 64 bit (glibc) version. Extract the files in home directory.\n",
    "\n",
    "```\n",
    "tar zxvf julia-VERSION-linux-x86_64.tar.gz\n",
    "```\n",
    "\n",
    "Now the executable is located int eh bin directory. We just need to export the PATH to the executable at the startup of the terminal. Depending on the shell you are using, you need to add the PATH to the relevant config file.\n",
    "\n",
    "In my case, I am using ZSH shell, so I will edit `.zshrc`. Add this to the end of the file.\n",
    "\n",
    "```\n",
    "export PATH=\"$PATH:/home/hell/Julia/bin\"\n",
    "```\n",
    "\n",
    "Now reopen the terminal and type julia to open the Julia REPL.\n",
    "\n",
    "```sh\n",
    "╰─ julia\n",
    "               _\n",
    "   _       _ _(_)_     |  Documentation: https://docs.julialang.org\n",
    "  (_)     | (_) (_)    |\n",
    "   _ _   _| |_  __ _   |  Type \"?\" for help, \"]?\" for Pkg help.\n",
    "  | | | | | | |/ _` |  |\n",
    "  | | |_| | | | (_| |  |  Version 1.9.0 (2023-05-07)\n",
    " _/ |\\__'_|_|_|\\__'_|  |  Official https://julialang.org/ release\n",
    "|__/                   |\n",
    "\n",
    "julia> \n",
    "```"
   ]
  },
  {
   "attachments": {},
   "cell_type": "markdown",
   "metadata": {},
   "source": [
    "# Environments\n",
    "Similar to Python Julia also provides environment with an in-built package manager.\n",
    "\n",
    "## Create an environment\n",
    "To create an environment in the `PWD`.\n",
    "\n",
    "* Open the Julia REPL and type `]` to enter in the package manager.\n",
    "* Create a new environment with `activate .` in the PWD.\n",
    "* We can use the same command the activate the environment.\n",
    "\n",
    "## Add packages\n",
    "You can add packages from https://juliapackages.com/ using add command.\n",
    "\n",
    "```sh\n",
    "(@v1.8) pkg> add Images\n",
    "   Resolving package versions...\n",
    "    Updating `~/.julia/environments/v1.9/Project.toml`\n",
    "  [916415d5] + Images v0.25.2\n",
    "    Updating `~/.julia/environments/v1.9/Manifest.toml`\n",
    "    ...\n",
    "Precompiling environment...\n",
    "  Progress [===================>                     ]  45/97\n",
    "  ✓ NaNMath\n",
    "  ✓ IntervalSets\n",
    "  ◐ CoordinateTransformations\n",
    "  ◑ ArnoldiMethod\n",
    "  ◑ IntegralArrays\n",
    "  ◒ RegionTrees\n",
    "  ◐ ChangesOfVariables\n",
    "  ◓ PaddedViews\n",
    "```"
   ]
  },
  {
   "attachments": {},
   "cell_type": "markdown",
   "metadata": {},
   "source": [
    "## VS code\n",
    "Julia nicely integrates with VS Code [extension](https://code.visualstudio.com/docs/languages/julia)."
   ]
  },
  {
   "attachments": {},
   "cell_type": "markdown",
   "metadata": {},
   "source": [
    "# Uninstallation\n",
    "The uninstallation is very simple.\n",
    "\n",
    "* Remove the packages: `/home/hell/.julia`\n",
    "* Remove the binaries: `/home/hell/Julia/`"
   ]
  }
 ],
 "metadata": {
  "language_info": {
   "name": "python"
  },
  "orig_nbformat": 4
 },
 "nbformat": 4,
 "nbformat_minor": 2
}
